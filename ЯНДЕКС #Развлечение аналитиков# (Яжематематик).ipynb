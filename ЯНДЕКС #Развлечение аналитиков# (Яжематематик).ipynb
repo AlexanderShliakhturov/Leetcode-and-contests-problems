{
 "cells": [
  {
   "cell_type": "markdown",
   "id": "4ed65f9e",
   "metadata": {},
   "source": [
    "**РАЗВЛЕЧЕНИЕ АНАЛИТИКОВ**\n",
    "\n",
    "Аналитики-разработчики любят активные игры. Например, иногда они с завязанными глазами\n",
    "по очереди случайно подбрасывают палку длины Г, находясь в центре прямоугольного\n",
    "офисного двора, вымощенного квадратными плитками размера М х М встык без зазоров.\n",
    "\n",
    "Найдите вероятность того, что палка пересечет вертикальную и горизонтальную границы\n",
    "между плитками.\n",
    "\n",
    "Формат ввода\n",
    "\n",
    "На первой строке вводится вещественное число — размер палки Г, (0 < 2 < М < 10°).\n",
    "\n",
    "На второй строке вводится вещественное число — размер плитки М (0 < М << 10°).\n",
    "\n",
    "Формат вывода\n",
    "\n",
    "выведите одно число — искомую вероятность."
   ]
  },
  {
   "cell_type": "code",
   "execution_count": null,
   "id": "6a7b6ea9",
   "metadata": {},
   "outputs": [],
   "source": [
    "from math import pi\n",
    "\n",
    "l = float(input())\n",
    "d = float(input())\n",
    "\n",
    "print((l**2/(d**2*(pi))))"
   ]
  }
 ],
 "metadata": {
  "kernelspec": {
   "display_name": "Python 3 (ipykernel)",
   "language": "python",
   "name": "python3"
  },
  "language_info": {
   "codemirror_mode": {
    "name": "ipython",
    "version": 3
   },
   "file_extension": ".py",
   "mimetype": "text/x-python",
   "name": "python",
   "nbconvert_exporter": "python",
   "pygments_lexer": "ipython3",
   "version": "3.9.13"
  }
 },
 "nbformat": 4,
 "nbformat_minor": 5
}
