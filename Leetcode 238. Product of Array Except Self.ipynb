{
 "cells": [
  {
   "cell_type": "markdown",
   "id": "6b663c8e",
   "metadata": {},
   "source": [
    "238. Product of Array Except Self\n",
    "\n",
    "Given an integer array nums, return an array answer such that answer[i] is equal to the product of all the elements of nums except nums[i].\n",
    "\n",
    "The product of any prefix or suffix of nums is guaranteed to fit in a 32-bit integer.\n",
    "\n",
    "You must write an algorithm that runs in O(n) time and without using the division operation.\n",
    "\n",
    "Example 1:\n",
    "\n",
    "Input: nums = [1,2,3,4] Output: [24,12,8,6] Example 2:\n",
    "\n",
    "Input: nums = [-1,1,0,-3,3] Output: [0,0,9,0,0]"
   ]
  },
  {
   "cell_type": "code",
   "execution_count": 1,
   "id": "30dbca67",
   "metadata": {},
   "outputs": [],
   "source": [
    "class Solution:\n",
    "    def productExceptSelf(self, nums: list[int]) -> list[int]:\n",
    "        res = [1]*len(nums)\n",
    "        pref = 1\n",
    "        for i in range(len(nums)):\n",
    "            res[i] = pref\n",
    "            pref *= nums[i]\n",
    "        postf = 1\n",
    "        for i in range(len(nums) -1 , -1, -1):\n",
    "            res[i] *= postf\n",
    "            postf *= nums[i]\n",
    "        return res"
   ]
  },
  {
   "cell_type": "code",
   "execution_count": null,
   "id": "2b05bb69",
   "metadata": {},
   "outputs": [],
   "source": []
  }
 ],
 "metadata": {
  "kernelspec": {
   "display_name": "Python 3 (ipykernel)",
   "language": "python",
   "name": "python3"
  },
  "language_info": {
   "codemirror_mode": {
    "name": "ipython",
    "version": 3
   },
   "file_extension": ".py",
   "mimetype": "text/x-python",
   "name": "python",
   "nbconvert_exporter": "python",
   "pygments_lexer": "ipython3",
   "version": "3.9.13"
  }
 },
 "nbformat": 4,
 "nbformat_minor": 5
}
