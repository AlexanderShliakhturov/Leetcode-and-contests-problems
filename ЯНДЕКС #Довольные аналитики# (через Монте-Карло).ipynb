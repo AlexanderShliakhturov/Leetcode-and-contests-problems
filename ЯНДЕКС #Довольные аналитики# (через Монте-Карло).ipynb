{
 "cells": [
  {
   "cell_type": "markdown",
   "id": "b268e623",
   "metadata": {},
   "source": [
    "**ДОВОЛЬНЫЕ АНАЛИТИКИ**\n",
    "\n",
    "\n",
    "В Яндексе есть два аналитика — Ян и Петр. Каждый день они берутся за новую задачу. Ян получает удовольствие от работы, если сделал 2 задачи подряд успешно. А Петр — только когда после проваленной задачи в следующей добился успеха.\n",
    "\n",
    "На сколько дней в среднем Яну ждать первого удовольствия дольше, чем Петру (успех и провал по каждой задаче равновероятны)?\n",
    "\n",
    "**ОТВЕТ: в среднем на 2 дня**"
   ]
  },
  {
   "cell_type": "code",
   "execution_count": 2,
   "id": "c4f32dd3",
   "metadata": {},
   "outputs": [
    {
     "data": {
      "text/plain": [
       "2.0029099999999995"
      ]
     },
     "execution_count": 2,
     "metadata": {},
     "output_type": "execute_result"
    }
   ],
   "source": [
    "import numpy as np\n",
    "\n",
    "arr = []\n",
    "for i in range(100000):\n",
    "    string = ''.join([str(el) for el in np.random.randint(0, 2, 100)])\n",
    "    pos = string.find('11') + 2\n",
    "    arr.append(pos)\n",
    "result1 = sum(arr)/len(arr)\n",
    "\n",
    "arr = []\n",
    "for i in range(100000):\n",
    "    string = ''.join([str(el) for el in np.random.randint(0, 2, 100)])\n",
    "    pos = string.find('01') + 2\n",
    "    arr.append(pos)\n",
    "result2 = sum(arr)/len(arr)\n",
    "\n",
    "ans = result1 - result2\n",
    "ans"
   ]
  },
  {
   "cell_type": "code",
   "execution_count": null,
   "id": "9a9eb2f6",
   "metadata": {},
   "outputs": [],
   "source": []
  }
 ],
 "metadata": {
  "kernelspec": {
   "display_name": "Python 3 (ipykernel)",
   "language": "python",
   "name": "python3"
  },
  "language_info": {
   "codemirror_mode": {
    "name": "ipython",
    "version": 3
   },
   "file_extension": ".py",
   "mimetype": "text/x-python",
   "name": "python",
   "nbconvert_exporter": "python",
   "pygments_lexer": "ipython3",
   "version": "3.9.13"
  }
 },
 "nbformat": 4,
 "nbformat_minor": 5
}
