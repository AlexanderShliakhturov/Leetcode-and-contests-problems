{
 "cells": [
  {
   "cell_type": "markdown",
   "id": "143d2ccf",
   "metadata": {},
   "source": [
    "**347. Top K Frequent Elements**\n",
    "\n",
    "Given an integer array nums and an integer k, return the k most frequent elements. You may return the answer in any order.\n",
    "\n",
    " \n",
    "\n",
    "Example 1:\n",
    "\n",
    "Input: nums = [1,1,1,2,2,3], k = 2\n",
    "Output: [1,2]\n",
    "Example 2:\n",
    "\n",
    "Input: nums = [1], k = 1\n",
    "Output: [1]"
   ]
  },
  {
   "cell_type": "code",
   "execution_count": 1,
   "id": "45bdfacb",
   "metadata": {},
   "outputs": [],
   "source": [
    "class Solution:\n",
    "    def topKFrequent(self, nums: list[int], k: int) -> list[int]:\n",
    "        dict = {}\n",
    "        for i in nums:\n",
    "            if i not in dict:\n",
    "                dict[i] = 1\n",
    "            else:\n",
    "                dict[i] +=1\n",
    "        sorted_dict = {}\n",
    "        sorted_keys = sorted(dict, key = dict.get, reverse = True) \n",
    "        for w in sorted_keys:\n",
    "            sorted_dict[w] = dict[w]\n",
    "        print(sorted_dict)\n",
    "        return list(sorted_dict.keys())[:k]"
   ]
  },
  {
   "cell_type": "code",
   "execution_count": null,
   "id": "a9059af3",
   "metadata": {},
   "outputs": [],
   "source": []
  }
 ],
 "metadata": {
  "kernelspec": {
   "display_name": "Python 3 (ipykernel)",
   "language": "python",
   "name": "python3"
  },
  "language_info": {
   "codemirror_mode": {
    "name": "ipython",
    "version": 3
   },
   "file_extension": ".py",
   "mimetype": "text/x-python",
   "name": "python",
   "nbconvert_exporter": "python",
   "pygments_lexer": "ipython3",
   "version": "3.9.13"
  }
 },
 "nbformat": 4,
 "nbformat_minor": 5
}
