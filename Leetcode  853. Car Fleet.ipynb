{
 "cells": [
  {
   "cell_type": "markdown",
   "id": "2cfa6b66",
   "metadata": {},
   "source": [
    "**853. Car Fleet**\n",
    "\n",
    "There are n cars at given miles away from the starting mile 0, traveling to reach the mile target.\n",
    "\n",
    "You are given two integer array position and speed, both of length n, where position[i] is the starting mile of the ith car and speed[i] is the speed of the ith car in miles per hour.\n",
    "\n",
    "A car cannot pass another car, but it can catch up and then travel next to it at the speed of the slower car.\n",
    "\n",
    "A car fleet is a car or cars driving next to each other. The speed of the car fleet is the minimum speed of any car in the fleet.\n",
    "\n",
    "If a car catches up to a car fleet at the mile target, it will still be considered as part of the car fleet.\n",
    "\n",
    "Return the number of car fleets that will arrive at the destination.\n",
    "\n",
    " \n",
    "\n",
    "Example 1:\n",
    "\n",
    "Input: target = 12, position = [10,8,0,5,3], speed = [2,4,1,1,3]\n",
    "\n",
    "Output: 3\n",
    "\n",
    "Explanation:\n",
    "\n",
    "The cars starting at 10 (speed 2) and 8 (speed 4) become a fleet, meeting each other at 12. The fleet forms at target.\n",
    "The car starting at 0 (speed 1) does not catch up to any other car, so it is a fleet by itself.\n",
    "The cars starting at 5 (speed 1) and 3 (speed 3) become a fleet, meeting each other at 6. The fleet moves at speed 1 until it reaches target."
   ]
  },
  {
   "cell_type": "code",
   "execution_count": 1,
   "id": "45c48672",
   "metadata": {},
   "outputs": [],
   "source": [
    "def carFleet(target: int, position: list[int], speed: list[int]) -> int:\n",
    "    stack = []\n",
    "    pairs = sorted([[pos, spd] for pos, spd in zip(position, speed)])\n",
    "    time = [(target - pos)/spd for pos, spd in pairs]\n",
    "    \n",
    "    print(time)\n",
    "    \n",
    "    for times in time[::-1]:\n",
    "        stack.append(times)\n",
    "        print(\"appended\", stack)\n",
    "        if len(stack) >= 2 and stack[-1] <= stack[-2]:\n",
    "            stack.pop()\n",
    "            print(\"poped\", stack)\n",
    "            \n",
    "    return len(stack)"
   ]
  },
  {
   "cell_type": "code",
   "execution_count": null,
   "id": "bc3f3a3d",
   "metadata": {},
   "outputs": [],
   "source": []
  }
 ],
 "metadata": {
  "kernelspec": {
   "display_name": "Python 3 (ipykernel)",
   "language": "python",
   "name": "python3"
  },
  "language_info": {
   "codemirror_mode": {
    "name": "ipython",
    "version": 3
   },
   "file_extension": ".py",
   "mimetype": "text/x-python",
   "name": "python",
   "nbconvert_exporter": "python",
   "pygments_lexer": "ipython3",
   "version": "3.9.13"
  }
 },
 "nbformat": 4,
 "nbformat_minor": 5
}
