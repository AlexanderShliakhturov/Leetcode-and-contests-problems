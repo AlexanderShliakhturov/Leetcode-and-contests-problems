{
 "cells": [
  {
   "cell_type": "markdown",
   "id": "65d215d0",
   "metadata": {},
   "source": [
    "**Почти то же самое, что KOKO EATING BANANAS**\n"
   ]
  },
  {
   "cell_type": "code",
   "execution_count": null,
   "id": "44bbb9b4",
   "metadata": {},
   "outputs": [],
   "source": [
    "from math import ceil\n",
    "\n",
    "def count_hour(mass, k):\n",
    "        res = 0\n",
    "        for i in range(len(mass)):\n",
    "            res += ceil(mass[i]/k)\n",
    "        return res\n",
    "    \n",
    "def minWorkingSpeed(array, h):\n",
    "    \n",
    "    l = 0\n",
    "    r = max(array)\n",
    "    while(l < r - 1):\n",
    "        m = (l + r) // 2\n",
    "        if count_hour(array, m) > h:\n",
    "            l = m\n",
    "        else:\n",
    "            r = m\n",
    "    return r\n",
    "\n",
    "h = int(input())\n",
    "tasks = list(map(int, input().split(' ')))\n",
    "\n",
    "print(minWorkingSpeed(tasks, h))"
   ]
  },
  {
   "cell_type": "code",
   "execution_count": null,
   "id": "13cfdadd",
   "metadata": {},
   "outputs": [],
   "source": []
  }
 ],
 "metadata": {
  "kernelspec": {
   "display_name": "Python 3 (ipykernel)",
   "language": "python",
   "name": "python3"
  },
  "language_info": {
   "codemirror_mode": {
    "name": "ipython",
    "version": 3
   },
   "file_extension": ".py",
   "mimetype": "text/x-python",
   "name": "python",
   "nbconvert_exporter": "python",
   "pygments_lexer": "ipython3",
   "version": "3.9.13"
  }
 },
 "nbformat": 4,
 "nbformat_minor": 5
}
