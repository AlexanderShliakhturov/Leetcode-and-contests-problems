{
 "cells": [
  {
   "cell_type": "code",
   "execution_count": null,
   "id": "16c170dc",
   "metadata": {},
   "outputs": [],
   "source": [
    "matrix = []\n",
    "while True:\n",
    "    try:\n",
    "        row = input()\n",
    "        matrix.append(list(map(int, row.split())))\n",
    "    except EOFError:\n",
    "        break\n",
    "\n",
    "n = len(matrix)\n",
    "rotated = [[0] * n for elem in range(n)]\n",
    "\n",
    "for i in range(n):\n",
    "    for j in range(n):\n",
    "        rotated[j][n - 1 - i] = matrix[i][j]\n",
    "\n",
    "\n",
    "for row in rotated:\n",
    "    print(\" \".join(map(str, row)))"
   ]
  }
 ],
 "metadata": {
  "kernelspec": {
   "display_name": "Python 3 (ipykernel)",
   "language": "python",
   "name": "python3"
  },
  "language_info": {
   "codemirror_mode": {
    "name": "ipython",
    "version": 3
   },
   "file_extension": ".py",
   "mimetype": "text/x-python",
   "name": "python",
   "nbconvert_exporter": "python",
   "pygments_lexer": "ipython3",
   "version": "3.9.13"
  }
 },
 "nbformat": 4,
 "nbformat_minor": 5
}
