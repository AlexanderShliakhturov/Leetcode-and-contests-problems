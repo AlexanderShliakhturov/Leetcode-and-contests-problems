{
 "cells": [
  {
   "cell_type": "code",
   "execution_count": null,
   "id": "a381a518",
   "metadata": {},
   "outputs": [],
   "source": [
    "info = {\"R\": \"S\", \"S\": \"P\", \"P\": \"R\"}\n",
    "\n",
    "kostya = []\n",
    "ksusha = []\n",
    "nichya = []\n",
    "\n",
    "while True:\n",
    "    try:\n",
    "        row = list(input().split())\n",
    "        # print(row[1])\n",
    "        if row[0] == row[1]:\n",
    "            kostya.append(\"D\")\n",
    "            ksusha.append(\"D\")\n",
    "        elif row[1] in info[row[0]]:\n",
    "            kostya.append(\"W\")\n",
    "            ksusha.append(\"L\")\n",
    "        else:\n",
    "            ksusha.append(\"W\")\n",
    "            kostya.append(\"L\")\n",
    "\n",
    "    except EOFError:\n",
    "        break\n",
    "\n",
    "ks_wins = ksusha.count(\"W\") * 100 / len(ksusha)\n",
    "ko_wins = kostya.count(\"W\") * 100 / len(kostya)\n",
    "d_percent = ksusha.count(\"D\") * 100 / len(ksusha)\n",
    "\n",
    "\n",
    "if ks_wins == ko_wins:\n",
    "    winner = \"Ничья\"\n",
    "elif ks_wins > ko_wins:\n",
    "    winner = \"Ксюша\"\n",
    "else:\n",
    "    winner = \"Костя\"\n",
    "\n",
    "\n",
    "if winner == \"Ксюша\":\n",
    "    print(f\"{winner}\\nW: {ks_wins}%\\nD: {d_percent}%\\nL: {100 - ks_wins - d_percent}%\")\n",
    "elif winner == \"Костя\":\n",
    "    print(f\"{winner}\\nW: {ko_wins}%\\nD: {d_percent}%\\nL: {100 - ko_wins - d_percent}%\")\n",
    "else:\n",
    "    print(f\"{winner}\\nW: {ko_wins}%\\nD: {d_percent}%\\nL: {100 - ko_wins - d_percent}%\")"
   ]
  },
  {
   "cell_type": "code",
   "execution_count": null,
   "id": "d1ac620b",
   "metadata": {},
   "outputs": [],
   "source": []
  }
 ],
 "metadata": {
  "kernelspec": {
   "display_name": "Python 3 (ipykernel)",
   "language": "python",
   "name": "python3"
  },
  "language_info": {
   "codemirror_mode": {
    "name": "ipython",
    "version": 3
   },
   "file_extension": ".py",
   "mimetype": "text/x-python",
   "name": "python",
   "nbconvert_exporter": "python",
   "pygments_lexer": "ipython3",
   "version": "3.9.13"
  }
 },
 "nbformat": 4,
 "nbformat_minor": 5
}
