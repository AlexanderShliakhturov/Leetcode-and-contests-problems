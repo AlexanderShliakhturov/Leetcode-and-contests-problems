{
 "cells": [
  {
   "cell_type": "markdown",
   "id": "b88e898b",
   "metadata": {},
   "source": [
    "**Аня берет одну точку на окружности, Боря берет две другие и отрезает по ним. Найдите вероятность, что кусок Ани будет больше, чем кусок Бори** "
   ]
  },
  {
   "cell_type": "code",
   "execution_count": 2,
   "id": "04712fe7",
   "metadata": {},
   "outputs": [
    {
     "data": {
      "application/vnd.jupyter.widget-view+json": {
       "model_id": "84d0ae5ec57d4b709db2c2694b21aede",
       "version_major": 2,
       "version_minor": 0
      },
      "text/plain": [
       "  0%|          | 0/100000 [00:00<?, ?it/s]"
      ]
     },
     "metadata": {},
     "output_type": "display_data"
    },
    {
     "data": {
      "text/plain": [
       "0.6672018851851874"
      ]
     },
     "execution_count": 2,
     "metadata": {},
     "output_type": "execute_result"
    }
   ],
   "source": [
    "from tqdm.auto import tqdm\n",
    "import numpy as np\n",
    "\n",
    "long = []\n",
    "for i in tqdm(range(100000)):\n",
    "    anya = np.random.uniform(0, 1, 1)\n",
    "    borya = np.random.uniform(0, 1, 2)\n",
    "    if anya[0] < min(borya) or anya[0] > max(borya):\n",
    "        long.append(1 - (max(borya) - min(borya)))\n",
    "    if anya[0] > min(borya) and anya[0] < max(borya):\n",
    "        long.append((max(borya) - min(borya)))\n",
    "\n",
    "np.mean(long)"
   ]
  },
  {
   "cell_type": "code",
   "execution_count": null,
   "id": "7ceab0a1",
   "metadata": {},
   "outputs": [],
   "source": []
  }
 ],
 "metadata": {
  "kernelspec": {
   "display_name": "Python 3 (ipykernel)",
   "language": "python",
   "name": "python3"
  },
  "language_info": {
   "codemirror_mode": {
    "name": "ipython",
    "version": 3
   },
   "file_extension": ".py",
   "mimetype": "text/x-python",
   "name": "python",
   "nbconvert_exporter": "python",
   "pygments_lexer": "ipython3",
   "version": "3.9.13"
  }
 },
 "nbformat": 4,
 "nbformat_minor": 5
}
