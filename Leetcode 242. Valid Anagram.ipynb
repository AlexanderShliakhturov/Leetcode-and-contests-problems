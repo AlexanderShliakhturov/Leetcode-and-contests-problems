{
 "cells": [
  {
   "cell_type": "markdown",
   "id": "456120b4",
   "metadata": {},
   "source": [
    "**242. Valid Anagram**\n",
    "​\n",
    "Given two strings s and t, return true if t is an anagram of s, and false otherwise.\n",
    "​\n",
    "An Anagram is a word or phrase formed by rearranging the letters of a different word or phrase, typically using all the original letters exactly once.\n",
    "​\n",
    " \n",
    "​\n",
    "Example 1:\n",
    "​\n",
    "Input: s = \"anagram\", t = \"nagaram\"\n",
    "Output: true\n",
    "Example 2:\n",
    "​\n",
    "Input: s = \"rat\", t = \"car\"\n",
    "Output: false"
   ]
  },
  {
   "cell_type": "code",
   "execution_count": 1,
   "id": "c7995ecf",
   "metadata": {},
   "outputs": [],
   "source": [
    "class Solution:\n",
    "    def isAnagram(self, s: str, t: str) -> bool:\n",
    "        dict_s = {}\n",
    "        for i in s:\n",
    "            if i not in dict_s:\n",
    "                dict_s[i] = 1\n",
    "            else:\n",
    "                dict_s[i] += 1\n",
    "\n",
    "        for i in t:\n",
    "            if i not in dict_s:\n",
    "                return False\n",
    "            else:\n",
    "                dict_s[i] -= 1\n",
    "\n",
    "        for i in dict_s.values():\n",
    "            if i != 0:\n",
    "                return False\n",
    "        return True"
   ]
  },
  {
   "cell_type": "code",
   "execution_count": null,
   "id": "007a7d92",
   "metadata": {},
   "outputs": [],
   "source": []
  }
 ],
 "metadata": {
  "kernelspec": {
   "display_name": "Python 3 (ipykernel)",
   "language": "python",
   "name": "python3"
  },
  "language_info": {
   "codemirror_mode": {
    "name": "ipython",
    "version": 3
   },
   "file_extension": ".py",
   "mimetype": "text/x-python",
   "name": "python",
   "nbconvert_exporter": "python",
   "pygments_lexer": "ipython3",
   "version": "3.9.13"
  }
 },
 "nbformat": 4,
 "nbformat_minor": 5
}
