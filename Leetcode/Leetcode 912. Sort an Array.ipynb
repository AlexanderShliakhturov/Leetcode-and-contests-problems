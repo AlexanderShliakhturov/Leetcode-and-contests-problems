{
 "cells": [
  {
   "cell_type": "markdown",
   "metadata": {},
   "source": [
    "**912. Sort an Array**\n",
    "\n",
    "Given an array of integers nums, sort the array in ascending order and return it.\n",
    "\n",
    "You must solve the problem without using any built-in functions in O(nlog(n)) time complexity and with the smallest space complexity possible.\n",
    "\n",
    " \n",
    "\n",
    "Example 1:\n",
    "\n",
    "Input: nums = [5,2,3,1]\n",
    "Output: [1,2,3,5]\n",
    "Explanation: After sorting the array, the positions of some numbers are not changed (for example, 2 and 3), while the positions of other numbers are changed (for example, 1 and 5).\n",
    "Example 2:\n",
    "\n",
    "Input: nums = [5,1,1,2,0,0]\n",
    "Output: [0,0,1,1,2,5]\n",
    "Explanation: Note that the values of nums are not necessairly unique."
   ]
  },
  {
   "cell_type": "code",
   "execution_count": null,
   "metadata": {
    "vscode": {
     "languageId": "plaintext"
    }
   },
   "outputs": [],
   "source": [
    "class Solution:\n",
    "    def merge(self, a, b):\n",
    "        res = []\n",
    "        i, j = 0, 0\n",
    "\n",
    "        while i < len(a) or j < len(b):\n",
    "            if i == len(a):\n",
    "                res.append(b[j])\n",
    "                j += 1 \n",
    "                \n",
    "            elif j == len(b):\n",
    "                res.append(a[i])\n",
    "                i += 1\n",
    "            \n",
    "            elif a[i] < b[j]:\n",
    "                res.append(a[i])\n",
    "                i += 1\n",
    "            else:\n",
    "                res.append(b[j])\n",
    "                j += 1\n",
    "        \n",
    "        return res\n",
    "\n",
    "    def sortArray(self, nums: list[int]) -> list[int]:\n",
    "        \n",
    "        if len(nums) <= 1:\n",
    "            return nums\n",
    "        \n",
    "        mid = len(nums)//2\n",
    "        \n",
    "        left_array = self.sortArray(nums[:mid])\n",
    "        right_array = self.sortArray(nums[mid:])\n",
    "        \n",
    "        result = self.merge(left_array, right_array)\n",
    "        \n",
    "        return result\n",
    "            "
   ]
  }
 ],
 "metadata": {
  "language_info": {
   "name": "python"
  }
 },
 "nbformat": 4,
 "nbformat_minor": 2
}
