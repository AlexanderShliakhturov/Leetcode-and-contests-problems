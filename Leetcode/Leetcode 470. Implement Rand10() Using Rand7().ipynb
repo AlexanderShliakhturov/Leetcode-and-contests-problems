{
 "cells": [
  {
   "cell_type": "markdown",
   "metadata": {},
   "source": [
    "**470. Implement Rand10() Using Rand7()**\n",
    "\n",
    "Given the API rand7() that generates a uniform random integer in the range [1, 7], write a function rand10() that generates a uniform random integer in the range [1, 10]. You can only call the API rand7(), and you shouldn't call any other API. Please do not use a language's built-in random API.\n",
    "\n",
    "Each test case will have one internal argument n, the number of times that your implemented function rand10() will be called while testing. Note that this is not an argument passed to rand10().\n",
    "\n",
    " \n",
    "\n",
    "Example 1:\n",
    "\n",
    "Input: n = 1\n",
    "Output: [2]\n",
    "Example 2:\n",
    "\n",
    "Input: n = 2\n",
    "Output: [2,8]\n",
    "Example 3:\n",
    "\n",
    "Input: n = 3\n",
    "Output: [3,8,10]\n"
   ]
  },
  {
   "cell_type": "code",
   "execution_count": null,
   "metadata": {
    "vscode": {
     "languageId": "plaintext"
    }
   },
   "outputs": [],
   "source": [
    "class Solution:\n",
    "    def rand10(self):\n",
    "        result = 40\n",
    "        while (result >= 40):\n",
    "            result = 7 * (rand7() - 1) + (rand7() - 1)\n",
    "        return result % 10 + 1"
   ]
  }
 ],
 "metadata": {
  "language_info": {
   "name": "python"
  }
 },
 "nbformat": 4,
 "nbformat_minor": 2
}
