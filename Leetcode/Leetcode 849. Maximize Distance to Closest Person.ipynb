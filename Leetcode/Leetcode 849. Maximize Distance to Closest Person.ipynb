{
 "cells": [
  {
   "cell_type": "markdown",
   "metadata": {},
   "source": [
    "**849. Maximize Distance to Closest Person**\n",
    "\n",
    "You are given an array representing a row of seats where seats[i] = 1 represents a person sitting in the ith seat, and seats[i] = 0 represents that the ith seat is empty (0-indexed).\n",
    "\n",
    "There is at least one empty seat, and at least one person sitting.\n",
    "\n",
    "Alex wants to sit in the seat such that the distance between him and the closest person to him is maximized. \n",
    "\n",
    "Return that maximum distance to the closest person.\n",
    "\n",
    "Input: seats = [1,0,0,0,1,0,1]\n",
    "Output: 2\n",
    "Explanation: \n",
    "If Alex sits in the second open seat (i.e. seats[2]), then the closest person has distance 2.\n",
    "If Alex sits in any other open seat, the closest person has distance 1.\n",
    "Thus, the maximum distance to the closest person is 2.\n",
    "Example 2:\n",
    "\n",
    "Input: seats = [1,0,0,0]\n",
    "Output: 3\n",
    "Explanation: \n",
    "If Alex sits in the last seat (i.e. seats[3]), the closest person is 3 seats away.\n",
    "This is the maximum distance possible, so the answer is 3.\n",
    "Example 3:\n",
    "\n",
    "Input: seats = [0,1]\n",
    "Output: 1"
   ]
  },
  {
   "cell_type": "code",
   "execution_count": null,
   "metadata": {},
   "outputs": [],
   "source": [
    "def maxDistToClosest(seats: list[int]) -> int:\n",
    "    \n",
    "    indexes = []\n",
    "    ans = 0\n",
    "    \n",
    "    for i in range(len(seats)):\n",
    "        if seats[i] == 1:\n",
    "            if i != 0 and len(indexes) == 0:\n",
    "                indexes.insert(0, (-1)*i)\n",
    "            \n",
    "            indexes.append(i)\n",
    "    \n",
    "    indexes.append(len(seats) + len(seats) - indexes[-1] - 2)\n",
    "            \n",
    "    for i in range(len(indexes) - 1):\n",
    "        ans = max(ans, (indexes[i + 1] - indexes[i])//2)\n",
    "        \n",
    "    return ans"
   ]
  }
 ],
 "metadata": {
  "kernelspec": {
   "display_name": "Python 3",
   "language": "python",
   "name": "python3"
  },
  "language_info": {
   "name": "python",
   "version": "3.8.10"
  }
 },
 "nbformat": 4,
 "nbformat_minor": 2
}
