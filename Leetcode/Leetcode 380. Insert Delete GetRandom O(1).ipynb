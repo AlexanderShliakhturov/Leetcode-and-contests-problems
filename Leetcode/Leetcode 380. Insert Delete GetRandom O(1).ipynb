{
 "cells": [
  {
   "cell_type": "markdown",
   "metadata": {},
   "source": [
    "**380. Insert Delete GetRandom O(1)**\n",
    "\n",
    "Implement the RandomizedSet class:\n",
    "\n",
    "RandomizedSet() Initializes the RandomizedSet object.\n",
    "bool insert(int val) Inserts an item val into the set if not present. Returns true if the item was not present, false otherwise.\n",
    "bool remove(int val) Removes an item val from the set if present. Returns true if the item was present, false otherwise.\n",
    "int getRandom() Returns a random element from the current set of elements (it's guaranteed that at least one element exists when this method is called). Each element must have the same probability of being returned.\n",
    "You must implement the functions of the class such that each function works in average O(1) time complexity.\n",
    "\n",
    " \n",
    "\n",
    "Example 1:\n",
    "\n",
    "Input\n",
    "[\"RandomizedSet\", \"insert\", \"remove\", \"insert\", \"getRandom\", \"remove\", \"insert\", \"getRandom\"]\n",
    "[[], [1], [2], [2], [], [1], [2], []]\n",
    "Output\n",
    "[null, true, false, true, 2, true, false, 2]\n",
    "\n",
    "Explanation\n",
    "RandomizedSet randomizedSet = new RandomizedSet();\n",
    "randomizedSet.insert(1); // Inserts 1 to the set. Returns true as 1 was inserted successfully.\n",
    "randomizedSet.remove(2); // Returns false as 2 does not exist in the set.\n",
    "randomizedSet.insert(2); // Inserts 2 to the set, returns true. Set now contains [1,2].\n",
    "randomizedSet.getRandom(); // getRandom() should return either 1 or 2 randomly.\n",
    "randomizedSet.remove(1); // Removes 1 from the set, returns true. Set now contains [2].\n",
    "randomizedSet.insert(2); // 2 was already in the set, so return false.\n",
    "randomizedSet.getRandom(); // Since 2 is the only number in the set, getRandom() will always return 2."
   ]
  },
  {
   "cell_type": "code",
   "execution_count": null,
   "metadata": {
    "vscode": {
     "languageId": "plaintext"
    }
   },
   "outputs": [],
   "source": [
    "class RandomizedSet:\n",
    "\n",
    "    def __init__(self):\n",
    "        self.dct = {}\n",
    "        self.indexes = []\n",
    "        \n",
    "    def insert(self, val: int) -> bool:\n",
    "        if val in self.dct:\n",
    "            return False\n",
    "        else:\n",
    "            self.dct[val] = len(self.indexes)\n",
    "            self.indexes.append(val)\n",
    "            return True\n",
    "            \n",
    "    def remove(self, val: int) -> bool:\n",
    "        if val in self.dct:\n",
    "            ind = self.dct[val]\n",
    "            self.indexes[ind] = self.indexes[-1]\n",
    "            deleted = self.indexes.pop()\n",
    "            self.dct[deleted] = ind\n",
    "            del self.dct[val]\n",
    "            return True\n",
    "        else:\n",
    "            return False\n",
    "\n",
    "    def getRandom(self) -> int:\n",
    "        return random.choice(self.indexes)\n",
    "        \n",
    "\n",
    "\n",
    "# Your RandomizedSet object will be instantiated and called as such:\n",
    "# obj = RandomizedSet()\n",
    "# param_1 = obj.insert(val)\n",
    "# param_2 = obj.remove(val)\n",
    "# param_3 = obj.getRandom()"
   ]
  }
 ],
 "metadata": {
  "language_info": {
   "name": "python"
  }
 },
 "nbformat": 4,
 "nbformat_minor": 2
}
