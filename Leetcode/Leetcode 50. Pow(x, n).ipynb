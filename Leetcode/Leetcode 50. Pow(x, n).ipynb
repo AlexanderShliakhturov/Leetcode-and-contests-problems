{
 "cells": [
  {
   "cell_type": "markdown",
   "id": "6e37607a",
   "metadata": {},
   "source": [
    "**50. Pow(x, n)**\n",
    "\n",
    "Implement pow(x, n), which calculates x raised to the power n (i.e., xn).\n",
    "\n",
    " \n",
    "\n",
    "Example 1:\n",
    "\n",
    "Input: x = 2.00000, n = 10\n",
    "Output: 1024.00000\n",
    "Example 2:\n",
    "\n",
    "Input: x = 2.10000, n = 3\n",
    "Output: 9.26100\n",
    "Example 3:\n",
    "\n",
    "Input: x = 2.00000, n = -2\n",
    "Output: 0.25000\n",
    "Explanation: 2-2 = 1/22 = 1/4 = 0.25"
   ]
  },
  {
   "cell_type": "code",
   "execution_count": 1,
   "id": "63b63d59",
   "metadata": {},
   "outputs": [],
   "source": [
    "def myPow(x: float, n: int) -> float:\n",
    "    \n",
    "    def help():\n",
    "        if abs(n) == 0:\n",
    "            return 1\n",
    "        elif abs(n) == 1:\n",
    "            return x\n",
    "        else:\n",
    "            part = myPow(x, abs(n)//2)\n",
    "            return part * part * (x if abs(n)%2 else 1)\n",
    "        \n",
    "    ans = help()\n",
    "    if n > 0:\n",
    "        return ans\n",
    "    else:\n",
    "        return(1/ans)"
   ]
  }
 ],
 "metadata": {
  "kernelspec": {
   "display_name": "Python 3 (ipykernel)",
   "language": "python",
   "name": "python3"
  },
  "language_info": {
   "codemirror_mode": {
    "name": "ipython",
    "version": 3
   },
   "file_extension": ".py",
   "mimetype": "text/x-python",
   "name": "python",
   "nbconvert_exporter": "python",
   "pygments_lexer": "ipython3",
   "version": "3.9.13"
  }
 },
 "nbformat": 4,
 "nbformat_minor": 5
}
