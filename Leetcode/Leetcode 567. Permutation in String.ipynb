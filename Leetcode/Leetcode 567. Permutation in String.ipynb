{
 "cells": [
  {
   "cell_type": "markdown",
   "metadata": {},
   "source": [
    "**567. Permutation in String**\n",
    "\n",
    "Given two strings s1 and s2, return true if s2 contains a permutation of s1, or false otherwise.\n",
    "\n",
    "In other words, return true if one of s1's permutations is the substring of s2.\n",
    "\n",
    " \n",
    "\n",
    "Example 1:\n",
    "\n",
    "Input: s1 = \"ab\", s2 = \"eidbaooo\"\n",
    "Output: true\n",
    "Explanation: s2 contains one permutation of s1 (\"ba\").\n",
    "Example 2:\n",
    "\n",
    "Input: s1 = \"ab\", s2 = \"eidboaoo\"\n",
    "Output: false"
   ]
  },
  {
   "cell_type": "markdown",
   "metadata": {},
   "source": [
    "**ОЧЕНЬ МЕДЛЕННО НО МАЛО ПО ПАМЯТИ**"
   ]
  },
  {
   "cell_type": "code",
   "execution_count": null,
   "metadata": {},
   "outputs": [],
   "source": [
    "class Solution:\n",
    "    def checkInclusion(self, s1: str, s2: str) -> bool:\n",
    "        l = 0\n",
    "        r = len(s1) - 1\n",
    "        sorted_s1 = sorted(s1)\n",
    "        \n",
    "        while r < len(s2):\n",
    "            if sorted_s1 == sorted(s2[l:r + 1]):\n",
    "                return True\n",
    "            else:\n",
    "                l += 1\n",
    "                r += 1\n",
    "        \n",
    "        return False"
   ]
  },
  {
   "cell_type": "markdown",
   "metadata": {},
   "source": [
    "**ОЧЕНЬ БЫСТРО НО МНОГО ПАМЯТИ**"
   ]
  },
  {
   "cell_type": "code",
   "execution_count": 1,
   "metadata": {},
   "outputs": [],
   "source": [
    "class Solution:\n",
    "    def checkInclusion(self, s1: str, s2: str) -> bool:\n",
    "        l1 = len(s1)\n",
    "        l2 = len(s2)\n",
    "        \n",
    "        if l1 > l2:\n",
    "            return False\n",
    "\n",
    "        arr1 = [0] * 26\n",
    "        arr2 = [0] * 26\n",
    "        \n",
    "        for i in range(l1):\n",
    "            arr1[ord(s1[i]) - 97] += 1\n",
    "            arr2[ord(s2[i]) - 97] += 1\n",
    "        \n",
    "        if arr1 == arr2:\n",
    "            return True\n",
    "        \n",
    "        for i in range(l1, l2):\n",
    "            arr2[ord(s2[i]) - 97] += 1\n",
    "            arr2[ord(s2[i - l1]) - 97] -= 1\n",
    "            if arr2 == arr1:\n",
    "                return True\n",
    "            \n",
    "        \n",
    "        return False"
   ]
  }
 ],
 "metadata": {
  "kernelspec": {
   "display_name": "Python 3",
   "language": "python",
   "name": "python3"
  },
  "language_info": {
   "codemirror_mode": {
    "name": "ipython",
    "version": 3
   },
   "file_extension": ".py",
   "mimetype": "text/x-python",
   "name": "python",
   "nbconvert_exporter": "python",
   "pygments_lexer": "ipython3",
   "version": "3.8.10"
  }
 },
 "nbformat": 4,
 "nbformat_minor": 2
}
