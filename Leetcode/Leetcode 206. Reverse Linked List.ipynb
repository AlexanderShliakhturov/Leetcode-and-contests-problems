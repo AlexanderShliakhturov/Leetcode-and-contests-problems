{
 "cells": [
  {
   "cell_type": "markdown",
   "metadata": {},
   "source": [
    "**206. Reverse Linked List**\n",
    "Given the head of a singly linked list, reverse the list, and return the reversed list."
   ]
  },
  {
   "cell_type": "code",
   "execution_count": null,
   "metadata": {},
   "outputs": [],
   "source": [
    "# Definition for singly-linked list.\n",
    "# class ListNode:\n",
    "#     def __init__(self, val=0, next=None):\n",
    "#         self.val = val\n",
    "#         self.next = next\n",
    "class Solution:\n",
    "    def reverseList(self, head: Optional[ListNode]) -> Optional[ListNode]:\n",
    "        prew, curr = None, head\n",
    "        \n",
    "        while curr:\n",
    "            nxt = curr.next\n",
    "            curr.next = prew\n",
    "            prew = curr\n",
    "            curr = nxt\n",
    "            \n",
    "        return prew"
   ]
  },
  {
   "cell_type": "code",
   "execution_count": null,
   "metadata": {},
   "outputs": [],
   "source": [
    "class Solution:\n",
    "    def maxDistToClosest(self, seats: List[int]) -> int:\n",
    "        res, prev = 0, -1  # Initialize result `res` and `prev` to track the last occupied seat\n",
    "        \n",
    "        # Iterate through each seat index and its status (occupied or not)\n",
    "        for i, n in enumerate(seats):\n",
    "            if n:  # If the seat is occupied\n",
    "                if prev == -1:  # If it's the first occupied seat encountered\n",
    "                    sit = i  # Distance to the closest occupied seat is just `i`\n",
    "                else:\n",
    "                    sit = (i - prev) // 2  # Calculate distance to the previous occupied seat\n",
    "                res = max(res, sit)  # Update the maximum distance found so far\n",
    "                prev = i  # Update `prev` to current seat index\n",
    "        \n",
    "        # Handle edge case: Check distance to the last seat if it's unoccupied\n",
    "        if not seats[-1]:\n",
    "            res = max(res, len(seats) - 1 - prev)\n",
    "        \n",
    "        return res"
   ]
  }
 ],
 "metadata": {
  "kernelspec": {
   "display_name": "Python 3",
   "language": "python",
   "name": "python3"
  },
  "language_info": {
   "name": "python",
   "version": "3.8.10"
  }
 },
 "nbformat": 4,
 "nbformat_minor": 2
}
