{
 "cells": [
  {
   "cell_type": "markdown",
   "id": "d133e8d0",
   "metadata": {},
   "source": [
    "**875. Koko Eating Bananas**\n",
    "\n",
    "Koko loves to eat bananas. There are n piles of bananas, the ith pile has piles[i] bananas. The guards have gone and will come back in h hours.\n",
    "\n",
    "Koko can decide her bananas-per-hour eating speed of k. Each hour, she chooses some pile of bananas and eats k bananas from that pile. If the pile has less than k bananas, she eats all of them instead and will not eat any more bananas during this hour.\n",
    "\n",
    "Koko likes to eat slowly but still wants to finish eating all the bananas before the guards return.\n",
    "\n",
    "Return the minimum integer k such that she can eat all the bananas within h hours.\n",
    "\n",
    "Пример 1:\n",
    "\n",
    "Входные данные: = [3,6,7,11], h = 8\n",
    "\n",
    "Выходные данные: 4\n",
    "\n",
    "Пример 2:\n",
    "\n",
    "Входные данные: = [30,11,23,4,20], h = 5\n",
    "\n",
    "Выходные данные: 30\n",
    "\n",
    "Пример 3:\n",
    "\n",
    "Входные данные: = [30,11,23,4,20], h = 6\n",
    "\n",
    "Выходные данные: 23"
   ]
  },
  {
   "cell_type": "code",
   "execution_count": 1,
   "id": "6d57a56b",
   "metadata": {},
   "outputs": [],
   "source": [
    "class Solution:\n",
    "    def minEatingSpeed(self, piles: list[int], h: int) -> int:\n",
    "        def count_hour(mass, k):\n",
    "            res = 0\n",
    "            for i in range(len(mass)):\n",
    "                res += ceil(mass[i]/k)\n",
    "            return res\n",
    "\n",
    "        l = 0\n",
    "        r = max(piles)\n",
    "        while(l < r - 1):\n",
    "            m = (l + r) // 2\n",
    "            if count_hour(piles, m) > h:\n",
    "                l = m\n",
    "            else:\n",
    "                r = m\n",
    "        return r\n",
    "        print(l, r)"
   ]
  },
  {
   "cell_type": "code",
   "execution_count": null,
   "id": "1987d3d7",
   "metadata": {},
   "outputs": [],
   "source": []
  }
 ],
 "metadata": {
  "kernelspec": {
   "display_name": "Python 3 (ipykernel)",
   "language": "python",
   "name": "python3"
  },
  "language_info": {
   "codemirror_mode": {
    "name": "ipython",
    "version": 3
   },
   "file_extension": ".py",
   "mimetype": "text/x-python",
   "name": "python",
   "nbconvert_exporter": "python",
   "pygments_lexer": "ipython3",
   "version": "3.9.13"
  }
 },
 "nbformat": 4,
 "nbformat_minor": 5
}
