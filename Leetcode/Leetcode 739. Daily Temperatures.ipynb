{
 "cells": [
  {
   "cell_type": "markdown",
   "id": "e7971354",
   "metadata": {},
   "source": [
    "**739. Daily Temperatures**\n",
    "\n",
    "Given an array of integers temperatures represents the daily temperatures, return an array answer such that answer[i] is the number of days you have to wait after the ith day to get a warmer temperature. If there is no future day for which this is possible, keep answer[i] == 0 instead.\n",
    "\n",
    " \n",
    "\n",
    "Example 1:\n",
    "\n",
    "Input: temperatures = [73,74,75,71,69,72,76,73]\n",
    "Output: [1,1,4,2,1,1,0,0]\n",
    "Example 2:\n",
    "\n",
    "Input: temperatures = [30,40,50,60]\n",
    "Output: [1,1,1,0]\n",
    "Example 3:\n",
    "\n",
    "Input: temperatures = [30,60,90]\n",
    "Output: [1,1,0]\n",
    " \n",
    "\n"
   ]
  },
  {
   "cell_type": "markdown",
   "id": "5a6536e0",
   "metadata": {},
   "source": [
    "**ТУПОЕ РЕШЕНИЕ ЗА КВАДРАТ**"
   ]
  },
  {
   "cell_type": "code",
   "execution_count": 4,
   "id": "5db2dfaf",
   "metadata": {},
   "outputs": [],
   "source": [
    "def dailyTemperatures(temperatures: list[int]) -> list[int]:\n",
    "    l = len(temperatures)\n",
    "    ans = [0] * l\n",
    "    for i in range(l):\n",
    "        for j in range(l - i):\n",
    "            if temperatures[i + j] > temperatures[i]:\n",
    "                ans[i] += j\n",
    "                break\n",
    "    return ans"
   ]
  },
  {
   "cell_type": "markdown",
   "id": "ab2a682b",
   "metadata": {},
   "source": [
    "**НОРМ РЕШЕНИЕ ЗА ЛИНИЮ**"
   ]
  },
  {
   "cell_type": "code",
   "execution_count": 6,
   "id": "5c8c9d5a",
   "metadata": {},
   "outputs": [],
   "source": [
    "def dailyTemperatures(temperatures: list[int]) -> list[int]:\n",
    "    stack = []\n",
    "    res = [0] * len(temperatures)\n",
    "    stack.append([temperatures[0], 0])\n",
    "    for i in range(1, len(temperatures)):\n",
    "        if temperatures[i] > stack[-1][0]:\n",
    "            while len(stack) != 0 and temperatures[i] > stack[-1][0]:\n",
    "                res[stack[-1][1]] = i - stack[-1][1]\n",
    "                stack.pop()\n",
    "            stack.append([temperatures[i], i])\n",
    "        else:\n",
    "            stack.append([temperatures[i], i])\n",
    "    return res"
   ]
  },
  {
   "cell_type": "markdown",
   "id": "02008310",
   "metadata": {},
   "source": [
    "**УМНОЕ РЕШЕНИЕ ЗА ЛИНИЮ**"
   ]
  },
  {
   "cell_type": "code",
   "execution_count": 7,
   "id": "856f500b",
   "metadata": {},
   "outputs": [],
   "source": [
    "def dailyTemperatures(temperatures: list[int]) -> list[int]:\n",
    "    stack = []\n",
    "    res = [0] * len(temperatures)\n",
    "    for num, temp in enumerate(temperatures):\n",
    "        while len(stack) != 0 and temp > stack[-1][0]:\n",
    "            prev_temp, prev_idx = stack.pop()\n",
    "            res[prev_idx] = num - prev_idx\n",
    "        stack.append([temp, num])\n",
    "        \n",
    "    return res"
   ]
  },
  {
   "cell_type": "code",
   "execution_count": null,
   "id": "44afa57e",
   "metadata": {},
   "outputs": [],
   "source": []
  }
 ],
 "metadata": {
  "kernelspec": {
   "display_name": "Python 3 (ipykernel)",
   "language": "python",
   "name": "python3"
  },
  "language_info": {
   "codemirror_mode": {
    "name": "ipython",
    "version": 3
   },
   "file_extension": ".py",
   "mimetype": "text/x-python",
   "name": "python",
   "nbconvert_exporter": "python",
   "pygments_lexer": "ipython3",
   "version": "3.9.13"
  }
 },
 "nbformat": 4,
 "nbformat_minor": 5
}
