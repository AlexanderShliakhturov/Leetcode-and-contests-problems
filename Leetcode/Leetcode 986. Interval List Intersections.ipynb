{
 "cells": [
  {
   "cell_type": "markdown",
   "metadata": {},
   "source": [
    "**986. Interval List Intersections**\n",
    "\n",
    "You are given two lists of closed intervals, firstList and secondList, where firstList[i] = [starti, endi] and secondList[j] = [startj, endj]. Each list of intervals is pairwise disjoint and in sorted order.\n",
    "\n",
    "Return the intersection of these two interval lists.\n",
    "\n",
    "A closed interval [a, b] (with a <= b) denotes the set of real numbers x with a <= x <= b.\n",
    "\n",
    "The intersection of two closed intervals is a set of real numbers that are either empty or represented as a closed interval. For example, the intersection of [1, 3] and [2, 4] is [2, 3]."
   ]
  },
  {
   "cell_type": "code",
   "execution_count": null,
   "metadata": {
    "vscode": {
     "languageId": "plaintext"
    }
   },
   "outputs": [],
   "source": [
    "class Solution:\n",
    "    def intervalIntersection(self, firstList: list[list[int]], secondList: list[list[int]]) -> list[list[int]]:\n",
    "        i, j = 0, 0\n",
    "        \n",
    "        res = []\n",
    "        \n",
    "        while i < len(firstList) and j < len(secondList):\n",
    "            i_fir, i_sec = firstList[i]\n",
    "            j_fir, j_sec = secondList[j]\n",
    "            \n",
    "            if i_fir <= j_sec and j_fir <= i_sec:\n",
    "                res.append([max(i_fir, j_fir), min(i_sec, j_sec)])\n",
    "                \n",
    "            if i_sec <= j_sec:\n",
    "                i += 1\n",
    "            else:\n",
    "                j += 1\n",
    "                \n",
    "        return res\n",
    "        \n",
    "        "
   ]
  },
  {
   "cell_type": "markdown",
   "metadata": {},
   "source": []
  }
 ],
 "metadata": {
  "language_info": {
   "name": "python"
  }
 },
 "nbformat": 4,
 "nbformat_minor": 2
}
