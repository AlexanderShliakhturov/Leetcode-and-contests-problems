{
 "cells": [
  {
   "cell_type": "markdown",
   "metadata": {},
   "source": [
    "**200. Number of Islands**\n",
    "\n",
    "Given an m x n 2D binary grid grid which represents a map of '1's (land) and '0's (water), return the number of islands.\n",
    "\n",
    "An island is surrounded by water and is formed by connecting adjacent lands horizontally or vertically. You may assume all four edges of the grid are all surrounded by water.\n",
    "\n",
    " \n",
    "\n",
    "Example 1:\n",
    "\n",
    "Input: grid = [\n",
    "  [\"1\",\"1\",\"1\",\"1\",\"0\"],\n",
    "  [\"1\",\"1\",\"0\",\"1\",\"0\"],\n",
    "  [\"1\",\"1\",\"0\",\"0\",\"0\"],\n",
    "  [\"0\",\"0\",\"0\",\"0\",\"0\"]\n",
    "]\n",
    "Output: 1\n",
    "Example 2:\n",
    "\n",
    "Input: grid = [\n",
    "  [\"1\",\"1\",\"0\",\"0\",\"0\"],\n",
    "  [\"1\",\"1\",\"0\",\"0\",\"0\"],\n",
    "  [\"0\",\"0\",\"1\",\"0\",\"0\"],\n",
    "  [\"0\",\"0\",\"0\",\"1\",\"1\"]\n",
    "]\n",
    "Output: 3\n",
    " "
   ]
  },
  {
   "cell_type": "code",
   "execution_count": 1,
   "metadata": {},
   "outputs": [],
   "source": [
    "def numIslands(grid):\n",
    "    rows_cnt = len(grid)\n",
    "    col_cnt = len(grid[0])\n",
    "    cnt = 0\n",
    "\n",
    "    directions = [(1,0), (-1, 0), (0, 1), (0, -1)]\n",
    "    \n",
    "    def bfs(i, j):\n",
    "        queue = []\n",
    "        queue.append((i, j))\n",
    "        grid[i][j] == \"2\"\n",
    "        \n",
    "        while queue:\n",
    "            curr_i, curr_j = queue.pop(0)\n",
    "            for direction in directions:\n",
    "                new_i, new_j = curr_i + direction[0], curr_j + direction[1]\n",
    "                if (0 <= new_i < rows_cnt) and (0 <= new_j < col_cnt) and (grid[new_i][new_j] == \"1\"):\n",
    "                    queue.append((new_i, new_j))\n",
    "                    grid[new_i][new_j] = \"2\"\n",
    "            \n",
    "    \n",
    "    for i in range(rows_cnt):\n",
    "        for j in range(col_cnt):\n",
    "            if grid[i][j] == \"1\":\n",
    "                cnt += 1 \n",
    "                bfs(i, j)\n",
    "            \n",
    "    return cnt"
   ]
  }
 ],
 "metadata": {
  "kernelspec": {
   "display_name": "Python 3",
   "language": "python",
   "name": "python3"
  },
  "language_info": {
   "codemirror_mode": {
    "name": "ipython",
    "version": 3
   },
   "file_extension": ".py",
   "mimetype": "text/x-python",
   "name": "python",
   "nbconvert_exporter": "python",
   "pygments_lexer": "ipython3",
   "version": "3.8.10"
  }
 },
 "nbformat": 4,
 "nbformat_minor": 2
}
