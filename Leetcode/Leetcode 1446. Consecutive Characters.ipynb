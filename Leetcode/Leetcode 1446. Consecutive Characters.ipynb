{
 "cells": [
  {
   "cell_type": "markdown",
   "metadata": {},
   "source": [
    "**1446. Consecutive Characters**\n",
    "\n",
    "The power of the string is the maximum length of a non-empty substring that contains only one unique character.\n",
    "\n",
    "Given a string s, return the power of s.\n",
    "\n",
    " \n",
    "\n",
    "Example 1:\n",
    "\n",
    "Input: s = \"leetcode\"\n",
    "Output: 2\n",
    "Explanation: The substring \"ee\" is of length 2 with the character 'e' only.\n",
    "Example 2:\n",
    "\n",
    "Input: s = \"abbcccddddeeeeedcba\"\n",
    "Output: 5\n",
    "Explanation: The substring \"eeeee\" is of length 5 with the character 'e' only."
   ]
  },
  {
   "cell_type": "code",
   "execution_count": null,
   "metadata": {
    "vscode": {
     "languageId": "plaintext"
    }
   },
   "outputs": [],
   "source": [
    "def maxPower(s: str) -> int:\n",
    "    \n",
    "    k = 1\n",
    "    maxim = 1\n",
    "    \n",
    "    for i in range(1, len(s)):\n",
    "        if s[i] == s[i - 1]:\n",
    "            k += 1\n",
    "            maxim = max(maxim, k)\n",
    "        else:\n",
    "            k = 1\n",
    "            \n",
    "    return maxim"
   ]
  }
 ],
 "metadata": {
  "language_info": {
   "name": "python"
  }
 },
 "nbformat": 4,
 "nbformat_minor": 2
}
