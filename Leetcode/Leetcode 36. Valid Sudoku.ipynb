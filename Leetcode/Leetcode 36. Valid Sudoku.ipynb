{
 "cells": [
  {
   "cell_type": "markdown",
   "id": "b5afbd2b",
   "metadata": {},
   "source": [
    "**36. Valid Sudoku**\n",
    "\n",
    "Determine if a 9 x 9 Sudoku board is valid. Only the filled cells need to be validated according to the following rules:\n",
    "\n",
    "Each row must contain the digits 1-9 without repetition.\n",
    "Each column must contain the digits 1-9 without repetition.\n",
    "Each of the nine 3 x 3 sub-boxes of the grid must contain the digits 1-9 without repetition.\n",
    "Note:\n",
    "\n",
    "A Sudoku board (partially filled) could be valid but is not necessarily solvable.\n",
    "Only the filled cells need to be validated according to the mentioned rules."
   ]
  },
  {
   "cell_type": "code",
   "execution_count": 1,
   "id": "c6e8f153",
   "metadata": {},
   "outputs": [],
   "source": [
    "class Solution:\n",
    "    def isValidSudoku(self, board: list[list[str]]) -> bool:\n",
    "        massH = []\n",
    "        massV = []\n",
    "        mass9 = []\n",
    "\n",
    "        print('horizonal')\n",
    "\n",
    "        for raw in board:\n",
    "            for elem in raw:\n",
    "                if elem in massH:\n",
    "                    return False\n",
    "                if elem not in massH and elem != '.':\n",
    "                    massH.append(elem)\n",
    "            print(massH)\n",
    "            massH = []\n",
    "\n",
    "        print('vertical')\n",
    "\n",
    "        for column in range(len(board[0])):\n",
    "            for row in range(len(board)):\n",
    "                if board[row][column] in massV:\n",
    "                    return False\n",
    "                if board[row][column] not in massV and board[row][column] != '.':\n",
    "                    massV.append(board[row][column])\n",
    "            print(massV)\n",
    "            massV = []\n",
    "\n",
    "        print('Nines')\n",
    "\n",
    "        for j in (0, 3, 6):\n",
    "            for i in (0, 3, 6):\n",
    "                for rw in (0+i, 1+i, 2+i):\n",
    "                    for col in (0+j, 1+j , 2+j):\n",
    "                        if board[rw][col] in mass9:\n",
    "                            return False\n",
    "                        if board[rw][col] not in mass9 and board[rw][col] != '.':\n",
    "                            mass9.append(board[rw][col])\n",
    "                print(mass9)\n",
    "                mass9 = []\n",
    "        return True"
   ]
  },
  {
   "cell_type": "code",
   "execution_count": null,
   "id": "0afb523f",
   "metadata": {},
   "outputs": [],
   "source": []
  }
 ],
 "metadata": {
  "kernelspec": {
   "display_name": "Python 3 (ipykernel)",
   "language": "python",
   "name": "python3"
  },
  "language_info": {
   "codemirror_mode": {
    "name": "ipython",
    "version": 3
   },
   "file_extension": ".py",
   "mimetype": "text/x-python",
   "name": "python",
   "nbconvert_exporter": "python",
   "pygments_lexer": "ipython3",
   "version": "3.9.13"
  }
 },
 "nbformat": 4,
 "nbformat_minor": 5
}
