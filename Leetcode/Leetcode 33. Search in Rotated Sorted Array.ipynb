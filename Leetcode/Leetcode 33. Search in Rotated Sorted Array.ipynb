{
 "cells": [
  {
   "cell_type": "markdown",
   "id": "5ea0d52c",
   "metadata": {},
   "source": [
    "**33. Search in Rotated Sorted Array**\n",
    "\n",
    "There is an integer array nums sorted in ascending order (with distinct values).\n",
    "\n",
    "Prior to being passed to your function, nums is possibly rotated at an unknown pivot index k (1 <= k < nums.length) such that the resulting array is [nums[k], nums[k+1], ..., nums[n-1], nums[0], nums[1], ..., nums[k-1]] (0-indexed). For example, [0,1,2,4,5,6,7] might be rotated at pivot index 3 and become [4,5,6,7,0,1,2].\n",
    "\n",
    "Given the array nums after the possible rotation and an integer target, return the index of target if it is in nums, or -1 if it is not in nums.\n",
    "\n",
    "You must write an algorithm with O(log n) runtime complexity.\n",
    "\n",
    " \n",
    "\n",
    "Example 1:\n",
    "\n",
    "Input: nums = [4,5,6,7,0,1,2], target = 0\n",
    "Output: 4\n",
    "Example 2:\n",
    "\n",
    "Input: nums = [4,5,6,7,0,1,2], target = 3\n",
    "Output: -1\n",
    "Example 3:\n",
    "\n",
    "Input: nums = [1], target = 0\n",
    "Output: -1"
   ]
  },
  {
   "cell_type": "code",
   "execution_count": null,
   "id": "da5301c0",
   "metadata": {},
   "outputs": [],
   "source": [
    "class Solution:\n",
    "    def search(self, nums: List[int], target: int) -> int:\n",
    "        if nums[0] == target:\n",
    "            return 0\n",
    "        ln = len(nums)\n",
    "        l, r = 0, len(nums)-1\n",
    "        last = len(nums)-1\n",
    "        while(l < r - 1):\n",
    "            m = (l + r)//2\n",
    "            if nums[m] < nums[last]:\n",
    "                r = m\n",
    "            else:\n",
    "                l = m\n",
    "        shift = r\n",
    "        print(f'shift = {shift}')\n",
    "        if target == nums[shift]:\n",
    "            return shift\n",
    "\n",
    "        l, r = 0, ln - 1\n",
    "        while(l < r - 1):\n",
    "            m = (l + r)//2\n",
    "            print(f'left = {l}, right = {r}, m = {m}, nums[m] = {nums[(m+shift)%ln]}')\n",
    "            if nums[(m+shift)%ln] < target:\n",
    "                print('nums[m] = ',nums[(m+shift)%ln])\n",
    "                l = m\n",
    "                print('l = m')\n",
    "            else:\n",
    "                print('nums[m] = ',nums[(m+shift)%ln])\n",
    "                r = m\n",
    "                print('r = m')\n",
    "        return (r+shift)%ln if nums[(r+shift)%ln] == target else -1"
   ]
  }
 ],
 "metadata": {
  "kernelspec": {
   "display_name": "Python 3 (ipykernel)",
   "language": "python",
   "name": "python3"
  },
  "language_info": {
   "codemirror_mode": {
    "name": "ipython",
    "version": 3
   },
   "file_extension": ".py",
   "mimetype": "text/x-python",
   "name": "python",
   "nbconvert_exporter": "python",
   "pygments_lexer": "ipython3",
   "version": "3.9.13"
  }
 },
 "nbformat": 4,
 "nbformat_minor": 5
}
