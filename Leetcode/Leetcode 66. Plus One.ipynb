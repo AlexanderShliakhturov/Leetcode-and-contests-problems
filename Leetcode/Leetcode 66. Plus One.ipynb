{
 "cells": [
  {
   "cell_type": "markdown",
   "id": "16bce566",
   "metadata": {},
   "source": [
    "**66. Plus One**\n",
    "\n",
    "You are given a large integer represented as an integer array digits, where each digits[i] is the ith digit of the integer. The digits are ordered from most significant to least significant in left-to-right order. The large integer does not contain any leading 0's.\n",
    "\n",
    "Increment the large integer by one and return the resulting array of digits.\n",
    "\n",
    " \n",
    "\n",
    "Example 1:\n",
    "\n",
    "Input: digits = [1,2,3]\n",
    "Output: [1,2,4]\n",
    "Explanation: The array represents the integer 123.\n",
    "Incrementing by one gives 123 + 1 = 124.\n",
    "Thus, the result should be [1,2,4]."
   ]
  },
  {
   "cell_type": "code",
   "execution_count": 2,
   "id": "a4e57982",
   "metadata": {},
   "outputs": [],
   "source": [
    "def longsum(a, b):\n",
    "    cash = 0\n",
    "    diff = len(a) - len(b)\n",
    "    if diff > 0:\n",
    "        b = [0]*diff + b\n",
    "    else:\n",
    "        a = [0]*diff + a\n",
    "     \n",
    "    res = [0] * len(a)\n",
    "    cash = 0\n",
    "    for i in range(len(a) - 1, -1, -1):\n",
    "        res[i] = (a[i] + b[i] + cash) % 10\n",
    "        cash = (a[i] + b[i] + cash) // 10\n",
    "        \n",
    "    if cash != 0:\n",
    "        res = [cash] + res\n",
    "    \n",
    "    return res"
   ]
  },
  {
   "cell_type": "code",
   "execution_count": 6,
   "id": "55923cdd",
   "metadata": {},
   "outputs": [
    {
     "data": {
      "text/plain": [
       "[1, 0, 0, 0, 9, 9, 9, 9, 9, 9, 9, 9, 9, 8]"
      ]
     },
     "execution_count": 6,
     "metadata": {},
     "output_type": "execute_result"
    }
   ],
   "source": [
    "longsum([9,9,9,9,9,9,9,9,9,9,9,9,9], [9,9,9,9,9,9,9,9,9,9])"
   ]
  },
  {
   "cell_type": "code",
   "execution_count": null,
   "id": "2f5240c8",
   "metadata": {},
   "outputs": [],
   "source": []
  }
 ],
 "metadata": {
  "kernelspec": {
   "display_name": "Python 3 (ipykernel)",
   "language": "python",
   "name": "python3"
  },
  "language_info": {
   "codemirror_mode": {
    "name": "ipython",
    "version": 3
   },
   "file_extension": ".py",
   "mimetype": "text/x-python",
   "name": "python",
   "nbconvert_exporter": "python",
   "pygments_lexer": "ipython3",
   "version": "3.8.2"
  }
 },
 "nbformat": 4,
 "nbformat_minor": 5
}
