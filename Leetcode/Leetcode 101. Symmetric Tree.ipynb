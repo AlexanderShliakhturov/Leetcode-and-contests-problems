{
 "cells": [
  {
   "cell_type": "markdown",
   "metadata": {},
   "source": [
    "**101. Symmetric Tree**\n",
    "\n",
    "Given the root of a binary tree, check whether it is a mirror of itself (i.e., symmetric around its center)."
   ]
  },
  {
   "cell_type": "code",
   "execution_count": null,
   "metadata": {
    "vscode": {
     "languageId": "coffeescript"
    }
   },
   "outputs": [],
   "source": [
    "# Definition for a binary tree node.\n",
    "# class TreeNode:\n",
    "#     def __init__(self, val=0, left=None, right=None):\n",
    "#         self.val = val\n",
    "#         self.left = left\n",
    "#         self.right = right\n",
    "class Solution:\n",
    "    def isSymmetric(self, root) -> bool:\n",
    "\n",
    "        def BFS_left(node):\n",
    "            res = []\n",
    "            arr = [node]\n",
    "            while arr:\n",
    "                new_arr = []\n",
    "                for elem in arr:\n",
    "                    res.append(elem.val if elem != None else None)\n",
    "                    if elem:\n",
    "                        if elem.left:\n",
    "                            new_arr.append(elem.left)\n",
    "                        else:\n",
    "                            new_arr.append(None)\n",
    "            \n",
    "                        if elem.right:\n",
    "                            new_arr.append(elem.right)\n",
    "                        else:\n",
    "                            new_arr.append(None)\n",
    "                \n",
    "                arr = new_arr\n",
    "        \n",
    "            return res\n",
    "\n",
    "        def BFS_right(node):\n",
    "            res = []\n",
    "            arr = [node]\n",
    "            while arr:\n",
    "                new_arr = []\n",
    "                for elem in arr:\n",
    "                    res.append(elem.val if elem != None else None)\n",
    "                    if elem:\n",
    "                        if elem.right:\n",
    "                            new_arr.append(elem.right)\n",
    "                        else:\n",
    "                            new_arr.append(None)\n",
    "            \n",
    "                        if elem.left:\n",
    "                            new_arr.append(elem.left)\n",
    "                        else:\n",
    "                            new_arr.append(None)\n",
    "                \n",
    "                arr = new_arr\n",
    "        \n",
    "            return res\n",
    "        \n",
    "        return BFS_left(root.left) == BFS_right(root.right)"
   ]
  },
  {
   "cell_type": "code",
   "execution_count": null,
   "metadata": {
    "vscode": {
     "languageId": "coffeescript"
    }
   },
   "outputs": [],
   "source": [
    "class Solution:\n",
    "    def isSymmetric(self, root: Optional[TreeNode]) -> bool:\n",
    "        if not root:\n",
    "            return True\n",
    "        \n",
    "        def func(right, left):\n",
    "            if not left and not right:     #step1 case 1\n",
    "                return True\n",
    "            if not left or not right:      #step1 case 2\n",
    "                return False\n",
    "            \n",
    "            if right.val == left.val:        #step2\n",
    "                outpair = func(left.left, right.right)\n",
    "                inpair = func(left.right, right.left)\n",
    "                return outpair and inpair\n",
    "            else:\n",
    "                return False\n",
    "        \n",
    "        return func(root.right, root.left)"
   ]
  }
 ],
 "metadata": {
  "language_info": {
   "name": "python"
  }
 },
 "nbformat": 4,
 "nbformat_minor": 2
}
