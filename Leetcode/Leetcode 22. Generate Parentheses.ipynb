{
 "cells": [
  {
   "cell_type": "markdown",
   "id": "2ae3444d",
   "metadata": {},
   "source": [
    "**22. Generate Parentheses**\n",
    "\n",
    "\n",
    "Given n pairs of parentheses, write a function to generate all combinations of well-formed parentheses."
   ]
  },
  {
   "cell_type": "code",
   "execution_count": 1,
   "id": "3872d642",
   "metadata": {},
   "outputs": [],
   "source": [
    "def generateParenthesis(n: int) -> list[str]:\n",
    "    res = []\n",
    "    stack = []\n",
    "    \n",
    "    def back(openN, closeN):\n",
    "        if openN == closeN == n:\n",
    "            res.append(\"\".join(stack))\n",
    "            return\n",
    "        \n",
    "        if openN < n:\n",
    "            stack.append(\"(\")\n",
    "            back(openN + 1, closeN)\n",
    "            stack.pop()\n",
    "            \n",
    "        if closeN < openN:\n",
    "            stack.append(\")\")\n",
    "            back(openN, closeN + 1)\n",
    "            stack.pop()\n",
    "            \n",
    "    back(0, 0)\n",
    "    return res"
   ]
  },
  {
   "cell_type": "code",
   "execution_count": null,
   "id": "ba1d601a",
   "metadata": {},
   "outputs": [],
   "source": []
  }
 ],
 "metadata": {
  "kernelspec": {
   "display_name": "Python 3 (ipykernel)",
   "language": "python",
   "name": "python3"
  },
  "language_info": {
   "codemirror_mode": {
    "name": "ipython",
    "version": 3
   },
   "file_extension": ".py",
   "mimetype": "text/x-python",
   "name": "python",
   "nbconvert_exporter": "python",
   "pygments_lexer": "ipython3",
   "version": "3.9.13"
  }
 },
 "nbformat": 4,
 "nbformat_minor": 5
}
