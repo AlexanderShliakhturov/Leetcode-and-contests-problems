{
 "cells": [
  {
   "cell_type": "markdown",
   "id": "a6ebb091",
   "metadata": {},
   "source": [
    "**11. Container With Most Water**\n",
    "\n",
    "You are given an integer array height of length n. There are n vertical lines drawn such that the two endpoints of the ith line are (i, 0) and (i, height[i]).\n",
    "\n",
    "Find two lines that together with the x-axis form a container, such that the container contains the most water.\n",
    "\n",
    "Return the maximum amount of water a container can store.\n",
    "\n",
    "Notice that you may not slant the container."
   ]
  },
  {
   "cell_type": "code",
   "execution_count": 1,
   "id": "bc198e10",
   "metadata": {},
   "outputs": [],
   "source": [
    "def maxArea(height: list[int]) -> int:\n",
    "    l = 0\n",
    "    r = len(height) - 1\n",
    "    area = (r - l)* min(height[l], height[r])\n",
    "    print(f'left = {l}, right = {r}, area = {area}')\n",
    "    while l < r - 1:\n",
    "        if height[l] <= height[r]:\n",
    "            l += 1\n",
    "            area = max(area, (r - l)* min(height[l], height[r]))\n",
    "            print(f'left = {l}, right = {r}, area = {area}')\n",
    "        else:\n",
    "            r -= 1\n",
    "            area = max(area, (r - l)* min(height[l], height[r]))\n",
    "            print(f'left = {l}, right = {r}, area = {area}')\n",
    "    return area"
   ]
  },
  {
   "cell_type": "code",
   "execution_count": null,
   "id": "661934f5",
   "metadata": {},
   "outputs": [],
   "source": []
  }
 ],
 "metadata": {
  "kernelspec": {
   "display_name": "Python 3 (ipykernel)",
   "language": "python",
   "name": "python3"
  },
  "language_info": {
   "codemirror_mode": {
    "name": "ipython",
    "version": 3
   },
   "file_extension": ".py",
   "mimetype": "text/x-python",
   "name": "python",
   "nbconvert_exporter": "python",
   "pygments_lexer": "ipython3",
   "version": "3.9.13"
  }
 },
 "nbformat": 4,
 "nbformat_minor": 5
}
