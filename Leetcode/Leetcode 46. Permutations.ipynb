{
 "cells": [
  {
   "cell_type": "markdown",
   "metadata": {},
   "source": [
    "**46. Permutations**\n",
    "\n",
    "Given an array nums of distinct integers, return all the possible permutations. You can return the answer in any order.\n",
    "\n",
    " \n",
    "\n",
    "Example 1:\n",
    "\n",
    "Input: nums = [1,2,3]\n",
    "Output: [[1,2,3],[1,3,2],[2,1,3],[2,3,1],[3,1,2],[3,2,1]]\n",
    "Example 2:\n",
    "\n",
    "Input: nums = [0,1]\n",
    "Output: [[0,1],[1,0]]\n",
    "Example 3:\n",
    "\n",
    "Input: nums = [1]\n",
    "Output: [[1]]"
   ]
  },
  {
   "cell_type": "code",
   "execution_count": null,
   "metadata": {},
   "outputs": [],
   "source": [
    "class Solution:\n",
    "    def permute(self, nums: List[int]) -> List[List[int]]:\n",
    "        if len(nums) == 0:\n",
    "            return [[]]\n",
    "        \n",
    "        res = self.permute(nums[1:])\n",
    "        ans = []\n",
    "        \n",
    "        for elem in res:\n",
    "            for i in range(len(elem) + 1):\n",
    "                copy = elem.copy()\n",
    "                copy.insert(i, nums[0])\n",
    "                ans.append(copy)\n",
    "            \n",
    "        return ans"
   ]
  }
 ],
 "metadata": {
  "language_info": {
   "name": "python"
  }
 },
 "nbformat": 4,
 "nbformat_minor": 2
}
