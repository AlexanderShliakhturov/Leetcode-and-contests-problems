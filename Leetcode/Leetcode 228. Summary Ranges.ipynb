{
 "cells": [
  {
   "cell_type": "markdown",
   "metadata": {},
   "source": [
    "**228. Summary Ranges**\n",
    "\n",
    "You are given a sorted unique integer array nums.\n",
    "\n",
    "A range [a,b] is the set of all integers from a to b (inclusive).\n",
    "\n",
    "Return the smallest sorted list of ranges that cover all the numbers in the array exactly. That is, each element of nums is covered by exactly one of the ranges, and there is no integer x such that x is in one of the ranges but not in nums.\n",
    "\n",
    "Each range [a,b] in the list should be output as:\n",
    "\n",
    "\"a->b\" if a != b\n",
    "\"a\" if a == b\n",
    " \n",
    "\n",
    "Example 1:\n",
    "\n",
    "Input: nums = [0,1,2,4,5,7]\n",
    "Output: [\"0->2\",\"4->5\",\"7\"]\n",
    "Explanation: The ranges are:\n",
    "[0,2] --> \"0->2\"\n",
    "[4,5] --> \"4->5\"\n",
    "[7,7] --> \"7\"\n",
    "Example 2:\n",
    "\n",
    "Input: nums = [0,2,3,4,6,8,9]\n",
    "Output: [\"0\",\"2->4\",\"6\",\"8->9\"]\n",
    "Explanation: The ranges are:\n",
    "[0,0] --> \"0\"\n",
    "[2,4] --> \"2->4\"\n",
    "[6,6] --> \"6\"\n",
    "[8,9] --> \"8->9\""
   ]
  },
  {
   "cell_type": "code",
   "execution_count": null,
   "metadata": {},
   "outputs": [],
   "source": [
    "def summaryRanges(nums: list[int]) -> list[str]:\n",
    "    \n",
    "    if len(nums) == 0:\n",
    "        return []\n",
    "    \n",
    "    if len(nums) == 1:\n",
    "        return [str(nums[0])]\n",
    "    \n",
    "    ans = []\n",
    "    l = 0\n",
    "    \n",
    "    for r in range(1, len(nums)):\n",
    "        if nums[r - 1] != nums[r] - 1:\n",
    "            ans.append((str(nums[l]) + \"->\" + str(nums[r - 1])) if nums[l] != nums[r - 1] else str(nums[l]))\n",
    "            l = r\n",
    "        print(f\"l  = {l}, r = {r}\")\n",
    "    \n",
    "    ans.append((str(nums[l]) + \"->\" + str(nums[r])) if nums[l] != nums[r] else str(nums[l]))\n",
    "    \n",
    "    return ans"
   ]
  },
  {
   "cell_type": "code",
   "execution_count": null,
   "metadata": {},
   "outputs": [],
   "source": [
    "class Solution:\n",
    "    def summaryRanges(self, nums: List[int]) -> List[str]:\n",
    "        ans = []\n",
    "        i = 0\n",
    "        j = 0\n",
    "        while j < len(nums):\n",
    "            if j + 1 < len(nums) and nums[j + 1] == nums[j] + 1:\n",
    "                j += 1\n",
    "            else:\n",
    "                ans.append(str(nums[i]) + \"->\" + str(nums[j]) if i != j else str(nums[j]))\n",
    "                i = j + 1\n",
    "                j += 1\n",
    "                \n",
    "        return ans"
   ]
  }
 ],
 "metadata": {
  "language_info": {
   "name": "python"
  }
 },
 "nbformat": 4,
 "nbformat_minor": 2
}
