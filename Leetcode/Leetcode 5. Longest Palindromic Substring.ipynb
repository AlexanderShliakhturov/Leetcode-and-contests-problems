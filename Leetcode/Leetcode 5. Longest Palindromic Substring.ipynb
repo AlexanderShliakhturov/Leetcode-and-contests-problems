{
 "cells": [
  {
   "cell_type": "markdown",
   "metadata": {},
   "source": [
    "**5. Longest Palindromic Substring**\n",
    "\n",
    "Given a string s, return the longest \n",
    "palindromic\n",
    " \n",
    "substring\n",
    " in s.\n",
    "\n",
    " \n",
    "\n",
    "Example 1:\n",
    "\n",
    "Input: s = \"babad\"\n",
    "Output: \"bab\"\n",
    "Explanation: \"aba\" is also a valid answer.\n",
    "Example 2:\n",
    "\n",
    "Input: s = \"cbbd\"\n",
    "Output: \"bb\"\n"
   ]
  },
  {
   "cell_type": "code",
   "execution_count": null,
   "metadata": {},
   "outputs": [],
   "source": [
    "class Solution:\n",
    "    def longestPalindrome(self, s: str) -> str:\n",
    "        res = 0\n",
    "        ans = \"\"\n",
    "        \n",
    "        for i in range(len(s)):\n",
    "            #case for odd len\n",
    "            l, r = i, i\n",
    "            shift = min(l, len(s) - r - 1)\n",
    "            for j in range(shift + 1):\n",
    "                if s[l - j] == s[r + j]:\n",
    "                    # print(s[l - j : r + j + 1], \"shift = \", j)\n",
    "                    if 2*j + 1 > res:\n",
    "                        res = 2*j + 1\n",
    "                        ans = s[l - j : r + j + 1]\n",
    "\n",
    "                else:\n",
    "                    break\n",
    "        \n",
    "            #case for even len\n",
    "            l, r = i, i + 1\n",
    "            shift = min(l, len(s) - r - 1)\n",
    "            for j in range(shift + 1):\n",
    "                if s[l - j] == s[r + j]:\n",
    "                    # print(s[l - j : r + j + 1], \"shift = \", j)\n",
    "                    if 2*j + 2 > res:\n",
    "                        res = 2*j + 2\n",
    "                        ans = s[l - j : r + j + 1]\n",
    "                else:\n",
    "                    break\n",
    "            \n",
    "\n",
    "        return ans"
   ]
  }
 ],
 "metadata": {
  "language_info": {
   "name": "python"
  }
 },
 "nbformat": 4,
 "nbformat_minor": 2
}
