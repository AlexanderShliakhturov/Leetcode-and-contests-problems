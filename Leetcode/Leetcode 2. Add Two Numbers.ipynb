{
 "cells": [
  {
   "cell_type": "markdown",
   "metadata": {},
   "source": [
    "**2. Add Two Numbers**\n",
    "You are given two non-empty linked lists representing two non-negative integers. The digits are stored in reverse order, and each of their nodes contains a single digit. Add the two numbers and return the sum as a linked list.\n",
    "\n",
    "You may assume the two numbers do not contain any leading zero, except the number 0 itself.\n",
    "\n",
    " \n",
    "\n",
    "Example 1:\n",
    "\n",
    "\n",
    "Input: l1 = [2,4,3], l2 = [5,6,4]\n",
    "Output: [7,0,8]\n",
    "Explanation: 342 + 465 = 807.\n",
    "Example 2:\n",
    "\n",
    "Input: l1 = [0], l2 = [0]\n",
    "Output: [0]\n",
    "Example 3:\n",
    "\n",
    "Input: l1 = [9,9,9,9,9,9,9], l2 = [9,9,9,9]\n",
    "Output: [8,9,9,9,0,0,0,1]\n"
   ]
  },
  {
   "cell_type": "code",
   "execution_count": null,
   "metadata": {},
   "outputs": [],
   "source": [
    "class Solution:\n",
    "    def addTwoNumbers(self, l1: Optional[ListNode], l2: Optional[ListNode]) -> Optional[ListNode]:\n",
    "        res = ListNode()\n",
    "        curr = res\n",
    "        cash = 0\n",
    "        while l1 or l2:\n",
    "            summ = getattr(l1, 'val', 0) + getattr(l2, 'val', 0) + cash\n",
    "            add = (summ)% 10\n",
    "            curr.next = ListNode(add)\n",
    "            cash = (summ) // 10\n",
    "            curr = curr.next\n",
    "            \n",
    "            if l1 == None:\n",
    "                l2 = l2.next\n",
    "            elif l2 == None:\n",
    "                l1 = l1.next\n",
    "            else:\n",
    "                l1 = l1.next\n",
    "                l2 = l2.next\n",
    "\n",
    "\n",
    "        if cash != 0:\n",
    "            curr.next = ListNode(cash)\n",
    "            \n",
    "        return res.next\n",
    "        "
   ]
  }
 ],
 "metadata": {
  "language_info": {
   "name": "python"
  }
 },
 "nbformat": 4,
 "nbformat_minor": 2
}
