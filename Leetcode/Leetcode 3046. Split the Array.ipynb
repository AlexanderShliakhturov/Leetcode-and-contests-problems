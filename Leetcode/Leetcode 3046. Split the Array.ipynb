{
 "cells": [
  {
   "cell_type": "markdown",
   "metadata": {},
   "source": [
    "**3046. Split the Array**\n",
    "\n",
    "You are given an integer array nums of even length. You have to split the array into two parts nums1 and nums2 such that:\n",
    "\n",
    "nums1.length == nums2.length == nums.length / 2.\n",
    "nums1 should contain distinct elements.\n",
    "nums2 should also contain distinct elements.\n",
    "Return true if it is possible to split the array, and false otherwise.\n",
    "\n",
    " \n",
    "\n",
    "Example 1:\n",
    "\n",
    "Input: nums = [1,1,2,2,3,4]\n",
    "Output: true\n",
    "Explanation: One of the possible ways to split nums is nums1 = [1,2,3] and nums2 = [1,2,4].\n",
    "Example 2:\n",
    "\n",
    "Input: nums = [1,1,1,1]\n",
    "Output: false\n",
    "Explanation: The only possible way to split nums is nums1 = [1,1] and nums2 = [1,1]. Both nums1 and nums2 do not contain distinct elements. Therefore, we return false."
   ]
  },
  {
   "cell_type": "code",
   "execution_count": null,
   "metadata": {
    "vscode": {
     "languageId": "plaintext"
    }
   },
   "outputs": [],
   "source": [
    "class Solution:\n",
    "    def isPossibleToSplit(self, nums: List[int]) -> bool:\n",
    "        count = {}\n",
    "        for elem in nums:\n",
    "            if elem in count:\n",
    "                count[elem] += 1\n",
    "            else:\n",
    "                count[elem] = 1\n",
    "                \n",
    "        print(count.items())\n",
    "        \n",
    "               \n",
    "        return all((map(lambda x: True if x <= 2 else False, list(count.values()))))"
   ]
  }
 ],
 "metadata": {
  "language_info": {
   "name": "python"
  }
 },
 "nbformat": 4,
 "nbformat_minor": 2
}
