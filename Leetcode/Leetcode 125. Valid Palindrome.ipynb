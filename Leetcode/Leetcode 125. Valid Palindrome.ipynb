{
 "cells": [
  {
   "cell_type": "markdown",
   "id": "607ba907",
   "metadata": {},
   "source": [
    "**125. Valid Palindrome**\n",
    "\n",
    "A phrase is a palindrome if, after converting all uppercase letters into lowercase letters and removing all non-alphanumeric characters, it reads the same forward and backward. Alphanumeric characters include letters and numbers.\n",
    "\n",
    "Given a string s, return true if it is a palindrome, or false otherwise.\n",
    "\n",
    " \n",
    "\n",
    "Example 1:\n",
    "\n",
    "Input: s = \"A man, a plan, a canal: Panama\"\n",
    "Output: true\n",
    "Explanation: \"amanaplanacanalpanama\" is a palindrome.\n",
    "Example 2:\n",
    "\n",
    "Input: s = \"race a car\"\n",
    "Output: false\n",
    "Explanation: \"raceacar\" is not a palindrome."
   ]
  },
  {
   "cell_type": "code",
   "execution_count": 1,
   "id": "7c1d8f3b",
   "metadata": {},
   "outputs": [],
   "source": [
    "class Solution:\n",
    "    def isPalindrome(self, s: str) -> bool:\n",
    "        s1 = ''\n",
    "        for c in s.lower():\n",
    "            if c.isalpha() or c.isnumeric():\n",
    "                s1 += c\n",
    "        s = s1[::-1]\n",
    "        return True if s1==s else False"
   ]
  },
  {
   "cell_type": "code",
   "execution_count": null,
   "id": "f5b5b0b2",
   "metadata": {},
   "outputs": [],
   "source": []
  }
 ],
 "metadata": {
  "kernelspec": {
   "display_name": "Python 3 (ipykernel)",
   "language": "python",
   "name": "python3"
  },
  "language_info": {
   "codemirror_mode": {
    "name": "ipython",
    "version": 3
   },
   "file_extension": ".py",
   "mimetype": "text/x-python",
   "name": "python",
   "nbconvert_exporter": "python",
   "pygments_lexer": "ipython3",
   "version": "3.9.13"
  }
 },
 "nbformat": 4,
 "nbformat_minor": 5
}
