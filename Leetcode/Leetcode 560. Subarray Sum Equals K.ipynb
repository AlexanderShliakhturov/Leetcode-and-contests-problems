{
 "cells": [
  {
   "cell_type": "markdown",
   "metadata": {},
   "source": [
    "**560. Subarray Sum Equals K**\n",
    "\n",
    "Given an array of integers nums and an integer k, return the total number of subarrays whose sum equals to k.\n",
    "\n",
    "A subarray is a contiguous non-empty sequence of elements within an array.\n",
    "\n",
    " \n",
    "\n",
    "Example 1:\n",
    "\n",
    "Input: nums = [1,1,1], k = 2\n",
    "Output: 2\n",
    "Example 2:\n",
    "\n",
    "Input: nums = [1,2,3], k = 3\n",
    "Output: 2\n",
    " "
   ]
  },
  {
   "cell_type": "code",
   "execution_count": null,
   "metadata": {},
   "outputs": [],
   "source": [
    "def subarraySum(nums: list[int], k: int) -> int:\n",
    "    \n",
    "    cnt = 0\n",
    "    \n",
    "    errors = {nums[0]: 1}\n",
    "    \n",
    "    if nums[0] == k:\n",
    "        cnt += 1\n",
    "    \n",
    "    for i in range(1, len(nums)):\n",
    "        nums[i] += nums[i-1]\n",
    "        \n",
    "        if errors.get(nums[i] - k) != None:\n",
    "            cnt += errors[nums[i] - k] + (nums[i] == k)\n",
    "        else:\n",
    "            cnt += (nums[i] == k)\n",
    "        \n",
    "        if nums[i] in errors:\n",
    "            errors[nums[i]] += 1\n",
    "        else:\n",
    "            errors[nums[i]] = 1\n",
    "        \n",
    "            \n",
    "    return cnt"
   ]
  },
  {
   "cell_type": "code",
   "execution_count": null,
   "metadata": {},
   "outputs": [],
   "source": [
    "def subarraySum(nums: list[int], k: int) -> int:\n",
    "        curr_sum = 0\n",
    "        res = 0\n",
    "        dic = {0 : 1}\n",
    "\n",
    "        for i in nums:\n",
    "            curr_sum += i\n",
    "\n",
    "            if curr_sum - k in dic:\n",
    "                res += dic[curr_sum - k]\n",
    "\n",
    "            if curr_sum in dic:\n",
    "                dic[curr_sum] += 1\n",
    "            else:\n",
    "                dic[curr_sum] = 1\n",
    "\n",
    "        return res"
   ]
  }
 ],
 "metadata": {
  "kernelspec": {
   "display_name": "Python 3",
   "language": "python",
   "name": "python3"
  },
  "language_info": {
   "name": "python",
   "version": "3.8.10"
  }
 },
 "nbformat": 4,
 "nbformat_minor": 2
}
