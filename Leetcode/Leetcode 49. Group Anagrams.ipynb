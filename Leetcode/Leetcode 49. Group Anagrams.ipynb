{
 "cells": [
  {
   "cell_type": "markdown",
   "id": "77405151",
   "metadata": {},
   "source": [
    "**49. Group Anagrams**\n",
    "\n",
    "Given an array of strings strs, group the anagrams together. You can return the answer in any order.\n",
    "\n",
    "An Anagram is a word or phrase formed by rearranging the letters of a different word or phrase, typically using all the original letters exactly once.\n",
    "\n",
    " \n",
    "\n",
    "Example 1:\n",
    "\n",
    "Input: strs = [\"eat\",\"tea\",\"tan\",\"ate\",\"nat\",\"bat\"]\n",
    "Output: [[\"bat\"],[\"nat\",\"tan\"],[\"ate\",\"eat\",\"tea\"]]\n",
    "Example 2:\n",
    "\n",
    "Input: strs = [\"\"]\n",
    "Output: [[\"\"]]\n",
    "Example 3:\n",
    "\n",
    "Input: strs = [\"a\"]\n",
    "Output: [[\"a\"]]"
   ]
  },
  {
   "cell_type": "code",
   "execution_count": 1,
   "id": "5b782fd4",
   "metadata": {},
   "outputs": [],
   "source": [
    "class Solution:\n",
    "    def groupAnagrams(self, strs: list[str]) -> list[list[str]]:\n",
    "            def alf(elem):\n",
    "                return ''.join(sorted(elem))\n",
    "            dict = {}\n",
    "            for i in range(len(strs)):\n",
    "                if alf(strs[i]) not in list(dict.keys()):\n",
    "                    dict[alf(strs[i])] = [strs[i]]\n",
    "                else:\n",
    "                    dict[alf(strs[i])].append(strs[i])\n",
    "            return list(dict.values())"
   ]
  },
  {
   "cell_type": "code",
   "execution_count": null,
   "id": "572b41c1",
   "metadata": {},
   "outputs": [],
   "source": []
  }
 ],
 "metadata": {
  "kernelspec": {
   "display_name": "Python 3 (ipykernel)",
   "language": "python",
   "name": "python3"
  },
  "language_info": {
   "codemirror_mode": {
    "name": "ipython",
    "version": 3
   },
   "file_extension": ".py",
   "mimetype": "text/x-python",
   "name": "python",
   "nbconvert_exporter": "python",
   "pygments_lexer": "ipython3",
   "version": "3.9.13"
  }
 },
 "nbformat": 4,
 "nbformat_minor": 5
}
