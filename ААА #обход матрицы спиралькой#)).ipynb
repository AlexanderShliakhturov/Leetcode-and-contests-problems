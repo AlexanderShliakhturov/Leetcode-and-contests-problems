{
 "cells": [
  {
   "cell_type": "code",
   "execution_count": 4,
   "id": "f1b52087",
   "metadata": {},
   "outputs": [
    {
     "name": "stdout",
     "output_type": "stream",
     "text": [
      "3\n",
      "1 2 3\n",
      "1 2 3\n",
      "1 2 3\n",
      "1 2 3 3 3 2 1 1 2\n"
     ]
    }
   ],
   "source": [
    "N = int(input())\n",
    "matrix = []\n",
    "for elem in range(N):\n",
    "    row = list(map(int, input().split()))\n",
    "    matrix.append(row)\n",
    "\n",
    "result = []\n",
    "while matrix:\n",
    "    result = result + matrix.pop(0)\n",
    "    if matrix:\n",
    "        for row in matrix:\n",
    "            result.append(row.pop())\n",
    "    if matrix:\n",
    "        result = result + matrix.pop()[::-1]\n",
    "    if matrix:\n",
    "        for row in matrix[::-1]:\n",
    "            result.append(row.pop(0))\n",
    "\n",
    "\n",
    "print(\" \".join(map(str, result)))"
   ]
  },
  {
   "cell_type": "code",
   "execution_count": null,
   "id": "d73a91f8",
   "metadata": {},
   "outputs": [],
   "source": []
  }
 ],
 "metadata": {
  "kernelspec": {
   "display_name": "Python 3 (ipykernel)",
   "language": "python",
   "name": "python3"
  },
  "language_info": {
   "codemirror_mode": {
    "name": "ipython",
    "version": 3
   },
   "file_extension": ".py",
   "mimetype": "text/x-python",
   "name": "python",
   "nbconvert_exporter": "python",
   "pygments_lexer": "ipython3",
   "version": "3.9.13"
  }
 },
 "nbformat": 4,
 "nbformat_minor": 5
}
