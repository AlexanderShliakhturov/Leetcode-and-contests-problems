{
 "cells": [
  {
   "cell_type": "markdown",
   "id": "dcb9f0a4",
   "metadata": {},
   "source": [
    "**РАЗВЛЕЧЕНИЕ АНАЛИТИКОВ**\n",
    "\n",
    "Аналитики-разработчики любят активные игры. Например, иногда они с завязанными глазами\n",
    "по очереди случайно подбрасывают палку длины Г, находясь в центре прямоугольного\n",
    "офисного двора, вымощенного квадратными плитками размера М х М встык без зазоров.\n",
    "\n",
    "Найдите вероятность того, что палка пересечет вертикальную и горизонтальную границы\n",
    "между плитками.\n",
    "\n",
    "Формат ввода\n",
    "\n",
    "На первой строке вводится вещественное число — размер палки Г, (0 < 2 < М < 10°).\n",
    "\n",
    "На второй строке вводится вещественное число — размер плитки М (0 < М << 10°).\n",
    "\n",
    "Формат вывода\n",
    "\n",
    "выведите одно число — искомую вероятность."
   ]
  },
  {
   "cell_type": "code",
   "execution_count": 4,
   "id": "2449e168",
   "metadata": {},
   "outputs": [
    {
     "name": "stdout",
     "output_type": "stream",
     "text": [
      "0.3\n",
      "1\n",
      "0.028398\n"
     ]
    }
   ],
   "source": [
    "import math\n",
    "import random\n",
    "\n",
    "def stick():\n",
    "    l = float(input())\n",
    "    m = int(input())\n",
    "\n",
    "    sample = 1000000\n",
    "    answer = []\n",
    "\n",
    "    for _ in range(sample):\n",
    "        a = m * random.random()\n",
    "        b = m * random.random()\n",
    "        phi = math.pi * random.random()\n",
    "\n",
    "        if phi <= math.pi / 2:\n",
    "            if a < l * math.sin(phi) and b < l * math.cos(phi):\n",
    "                answer.append(1)\n",
    "            else:\n",
    "                answer.append(0)\n",
    "        else:\n",
    "            if a < l * math.sin(phi) and (m - b) < abs(l * math.cos(phi)):\n",
    "                answer.append(1)\n",
    "            else:\n",
    "                answer.append(0)\n",
    "\n",
    "    print(sum(answer) / len(answer))\n",
    "\n",
    "stick()"
   ]
  }
 ],
 "metadata": {
  "kernelspec": {
   "display_name": "Python 3 (ipykernel)",
   "language": "python",
   "name": "python3"
  },
  "language_info": {
   "codemirror_mode": {
    "name": "ipython",
    "version": 3
   },
   "file_extension": ".py",
   "mimetype": "text/x-python",
   "name": "python",
   "nbconvert_exporter": "python",
   "pygments_lexer": "ipython3",
   "version": "3.9.13"
  }
 },
 "nbformat": 4,
 "nbformat_minor": 5
}
