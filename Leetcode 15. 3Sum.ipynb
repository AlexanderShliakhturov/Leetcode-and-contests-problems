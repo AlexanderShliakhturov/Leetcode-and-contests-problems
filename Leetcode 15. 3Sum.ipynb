{
 "cells": [
  {
   "cell_type": "markdown",
   "id": "857befe7",
   "metadata": {},
   "source": [
    "**15. 3Sum**\n",
    "\n",
    "Given an integer array nums, return all the triplets [nums[i], nums[j], nums[k]] such that i != j, i != k, and j != k, and nums[i] + nums[j] + nums[k] == 0.\n",
    "\n",
    "Notice that the solution set must not contain duplicate triplets."
   ]
  },
  {
   "cell_type": "code",
   "execution_count": 2,
   "id": "d16f8b5d",
   "metadata": {},
   "outputs": [],
   "source": [
    "def three_sum(numbers):\n",
    "    numbers.sort()\n",
    "    print(numbers)\n",
    "    ans = []\n",
    "    for i in range(len(numbers)):\n",
    "        if i > 0 and numbers[i] == numbers[i - 1]:\n",
    "            continue\n",
    "        else:\n",
    "            l = i + 1\n",
    "            r = len(numbers) - 1\n",
    "            while l < r:\n",
    "                sum = numbers[l] + numbers[r] + numbers[i]\n",
    "                if sum == 0:\n",
    "                    ans.append([numbers[i], numbers[l], numbers[r]])\n",
    "                    l += 1\n",
    "                    while numbers[l] == numbers[l - 1] and l < r:\n",
    "                        l += 1\n",
    "                elif sum < 0:\n",
    "                    l += 1\n",
    "                else:\n",
    "                    r -=1\n",
    "    return ans"
   ]
  },
  {
   "cell_type": "code",
   "execution_count": null,
   "id": "d5f1fc87",
   "metadata": {},
   "outputs": [],
   "source": []
  }
 ],
 "metadata": {
  "kernelspec": {
   "display_name": "Python 3 (ipykernel)",
   "language": "python",
   "name": "python3"
  },
  "language_info": {
   "codemirror_mode": {
    "name": "ipython",
    "version": 3
   },
   "file_extension": ".py",
   "mimetype": "text/x-python",
   "name": "python",
   "nbconvert_exporter": "python",
   "pygments_lexer": "ipython3",
   "version": "3.9.13"
  }
 },
 "nbformat": 4,
 "nbformat_minor": 5
}
